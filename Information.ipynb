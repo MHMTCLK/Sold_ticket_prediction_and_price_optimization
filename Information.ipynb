{
 "cells": [
  {
   "cell_type": "markdown",
   "metadata": {},
   "source": [
    "# Homework Assignment\n",
    "\n",
    "In this homework, we ask you to find a solution for one of the most important problems : Finding optimal prices for bus tickets. To this end, you will \n",
    "\n",
    "1. Build a model that predicts how many tickets will be sold on future bus rides in different price categories\n",
    "2. Based on predictions, come up with a way to find an optimised assignment of tickets to the price categories\n",
    "\n",
    "In the remainder of the homework, we will look at fake data about a bus line that connects two cities (A and B) in Bavaria, Germany. We are looking forward to seeing what you will do with it!\n",
    "\n",
    "\n",
    "\n",
    "## Background: The pricing mechanism\n",
    "\n",
    "In order to understand the data we provide to you, some background information about how the pricing mechanism works is required.\n",
    "\n",
    "Imagine a single bus ride from A to B with a capacity of 50 seats (hence, max. 50 tickets can be sold on this bus). There are  4 different ticket categories with 4 different prices, namely 9, 12, 15 and 19 Euro. The challenge is to find an optimal assignment of seats to ticket prices that maximises the expected revenue. For instance, a possible assignment could look like this (note that all assigned seats sum up to the capacity, i.e. 50 seats):\n",
    "\n",
    "|  | 9 Euro | 12 Euro | 15 Euro | 19 Euro |\n",
    "|----------------|--------|---------|---------|---------|\n",
    "| __seats__|  5     |   20    |     15  |   10    |\n",
    "\n",
    "Tickets are sold in order of their price categories from cheap to more expensive prices. Accordingly, customers booking early can usually buy cheaper tickets than customers booking shortly before the bus departs.\n",
    "With the assignment given above, the first 5 customers that book a ticket for this bus ride would have to pay 9 Euro. Then, the subsequent 20 customers would pay 12 Euro, since the contingent of 9 Euro tickets has already been used up (and so on). All seats are equal, i.e. the customer receives the same product, no matter if she had to pay 9 Euro or 19 Euro for the ticket. If all the 50 tickets were sold on this ride, the achieved revenue would be \n",
    "\n",
    "\\begin{equation*} 5 \\cdot 9\\,\\text{€} + 20 \\cdot 12\\,\\text{€} + 15 \\cdot 15\\,\\text{€} + 10 \\cdot 19\\,\\text{€} = 700\\, \\text{€} \\quad.\\end{equation*}"
   ]
  },
  {
   "cell_type": "markdown",
   "metadata": {},
   "source": [
    "# Required Challenge: How many tickets will be sold?\n",
    "In this challenge, we ask you to predict how many tickets will be sold on future bus rides.\n",
    "\n",
    "** Note that this is the required exercise that you need to solve.**\n",
    "\n",
    "\n",
    "## The data\n",
    "Each row in the training data set (`training_data.csv`) corresponds to a bus ride between A and B, with departures ranging from 1.1.2015 until 30.4.2017:"
   ]
  },
  {
   "cell_type": "code",
   "execution_count": 1,
   "metadata": {},
   "outputs": [
    {
     "name": "stdout",
     "output_type": "stream",
     "text": [
      "index,ride_departure,capacity,tickets_9_eur,tickets_12_eur,tickets_15_eur,tickets_19_eur,direction\r\n",
      "0,2015-01-01 08:15:00,82.0,21.0,0.0,0.0,0.0,B->A\r\n",
      "1,2015-01-01 09:15:00,82.0,12.0,0.0,0.0,0.0,A->B\r\n",
      "2,2015-01-01 10:15:00,82.0,33.0,0.0,0.0,0.0,B->A\r\n"
     ]
    }
   ],
   "source": [
    "!head -n 4 training_data.csv"
   ]
  },
  {
   "cell_type": "markdown",
   "metadata": {},
   "source": [
    "Description of the columns:\n",
    "\n",
    "- `index`: unique identifier for the bus ride\n",
    "- `ride_departure`: departure date and time of the ride\n",
    "- `capacity`: number of total seats available in the bus\n",
    "- `tickets_{X}_eur`: number of tickets sold for `X` Euro\n",
    "- `direction`: direction of the bus ride, either A->B or B->A"
   ]
  },
  {
   "cell_type": "markdown",
   "metadata": {},
   "source": [
    "## Task\n",
    "\n",
    "You are given a test data set (`test_data.csv`) containing the following data about scheduled bus rides between the 1.5.2017 and the 1.7.2017:"
   ]
  },
  {
   "cell_type": "code",
   "execution_count": 2,
   "metadata": {},
   "outputs": [
    {
     "name": "stdout",
     "output_type": "stream",
     "text": [
      "index,ride_departure,capacity,direction\r\n",
      "19219,2017-05-01 07:00:00,75,B->A\r\n",
      "19220,2017-05-01 08:30:00,75,A->B\r\n",
      "19221,2017-05-01 09:00:00,75,B->A\r\n"
     ]
    }
   ],
   "source": [
    "!head -n 4 test_data.csv"
   ]
  },
  {
   "cell_type": "markdown",
   "metadata": {},
   "source": [
    "__For this test data set, we ask you to predict the number of tickets sold for 9, 12, 15 and 19 Euro on each bus ride.__\n"
   ]
  },
  {
   "cell_type": "markdown",
   "metadata": {},
   "source": [
    "Feel free to transform the given features as you wish and to use external data to improve your predictions. For example, you might find the [holdidays](https://pypi.python.org/pypi/holidays) package useful. \n",
    "\n",
    "Please provide your predictions in the form of a csv file (please use the structure provided in the file `predictions_template.csv`). Your predictions will be evaluated using the mean of the [MAE metrics](https://www.kaggle.com/wiki/MeanAbsoluteError) over all 4 categories.\n",
    "\n",
    "\n",
    "Next to the csv file, please include a report (html, pdf or jupyter notebook) describing your solution, your thoughts and your code. Feel free to use any programming language/tool that you consider useful, however, we encourage you to use Python."
   ]
  },
  {
   "cell_type": "markdown",
   "metadata": {},
   "source": [
    "# OPTIONAL Challenge: Finding optimal ticket prices\n",
    "In the second challenge, we ask you to find optimal ticket prices for a particular bus ride, given the amount of tickets predicted to be sold.\n",
    "\n",
    "## NOTE this is an OPTIONAL exercise, you can omit this exercise in the interest of time. "
   ]
  },
  {
   "cell_type": "markdown",
   "metadata": {},
   "source": [
    "## The data\n",
    "\n",
    "You are given predictions on how many tickets will be sold for two rides, one departing on a Wednesday and another departing on a Friday. Here, these predictions are simply the average of the tickets that were sold on those rides during previous Wednesdays and Fridays (fake data):\n",
    "\n",
    "|                                        | 9 Euro   | 12 Euro | 15 Euro | 19 Euro |\n",
    "|----------------------------------------|----------|---------|---------|---------|\n",
    "| __predicted tickets sold on Wednesday__|  7.5     |   8.9   |     2   |   0     |\n",
    "| __predicted tickets sold on Friday__   |  4.5     |   25.3  |     8.1 |   5.0   |\n",
    "\n",
    "Both rides have a capacity of 50 seats. Note that the predictions in general do not sum up to the bus capacity.\n",
    "\n",
    "\n",
    "Furthermore, we provide you with an estimate of the so called sell-up probability curve, which reflects the price sensitivity of the customers:\n",
    "\n",
    "\\begin{equation*}\n",
    "f(x) = \\frac{1}{2}\\left[\\exp\\left(1-\\frac{1}{9}x\\right) + \\exp\\left(3-\\frac{1}{3}x \\right)\\right]\n",
    "\\end{equation*}\n",
    "\n",
    "![](sellup.png \"Sell-Up\")\n",
    "\n",
    "This curve can be interpreted as follows: Given the number of customers $Q$ willing to buy a ticket for the cheapest price available (9 Euro), the curve indicates the fraction of $Q$ that would also buy a ticket for a higher price. For example, imagine we know that $Q=100$ customers want to buy a ticket for 9 Euro. From the curve, we see that $f(x=18) \\approx 0.2$, so we can deduce that $0.2 \\cdot 100 = 20$ customers out of those 100 would also buy a ticket for 18 Euro. Conversely, if we know that 20 customers want to buy a ticket for 18 Euro, we can infer that the total demand for 9 Euro tickets is actually $Q=20/0.2 = 100$."
   ]
  },
  {
   "cell_type": "markdown",
   "metadata": {
    "collapsed": true
   },
   "source": [
    "## Task\n",
    "\n",
    "__Given the above predictions, suggest an assignment of seats to ticket prices (one for Wednesday and one  for Friday) that you think maximises the expected revenue.__\n",
    "\n",
    "Your solution should be provided in the form of a report (html, pdf or jupyter notebook) that can contain documented code, but some calculations and explanations are fine as well. Make sure you elaborate on your approach in reasonable detail, especially on your assumptions and simplifications.\n",
    "\n",
    "Here are some assumptions that you could make:\n",
    "\n",
    "- Customers with a high willingess-to-pay (WTP) buy tickets earlier than customers with a low WTP. Given the example above, this means that the 20 customers willing to pay 18 Euro place their orders after the remaining 80 customers who are only willing to pay 9 Euro. You may justify this assumption as follows: Customers who want to get cheap tickets order way in advance, whereas customers who need a ticket urgently for a bus ride that departs soon are willing to pay higher prices.\n",
    "- Both the predictions and the sell-up curve are deterministic (i.e. they are not subject to uncertainty).\n",
    "\n",
    "Note that your solution can, but does not have to rely on sell-up probabilities. However, if your approach is based on sell-up probabilites, please use the provided curve above. Furthermore, your solution does not have to be optimal in the mathematical sense, a reasonable heuristic is also fine. "
   ]
  }
 ],
 "metadata": {
  "anaconda-cloud": {},
  "kernelspec": {
   "display_name": "Python 3",
   "language": "python",
   "name": "python3"
  },
  "language_info": {
   "codemirror_mode": {
    "name": "ipython",
    "version": 3
   },
   "file_extension": ".py",
   "mimetype": "text/x-python",
   "name": "python",
   "nbconvert_exporter": "python",
   "pygments_lexer": "ipython3",
   "version": "3.7.1"
  }
 },
 "nbformat": 4,
 "nbformat_minor": 1
}
